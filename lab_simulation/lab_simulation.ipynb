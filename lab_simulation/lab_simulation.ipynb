{
 "cells": [
  {
   "cell_type": "markdown",
   "metadata": {},
   "source": [
    "# lab_simulation: 1/14,000,605\n",
    "\n",
    "As you learned in the lecture, **simulation** is an extremely powerful tool to estimate probabilities by replicating the reality and determining the successful observations.\n",
    "\n",
    "In this lab, we will try some increasingly interesting simulations and explore the possibilities with this tool.\n",
    "\n",
    "(Wonder why the title is 1/14,000,605? See Avengers: Infinity War at [https://www.youtube.com/watch?v=eGKPfZTXHsc](https://www.youtube.com/watch?v=eGKPfZTXHsc))"
   ]
  },
  {
   "cell_type": "markdown",
   "metadata": {},
   "source": [
    "# Part 0 | Your Group!\n",
    "\n",
    "Edit the next Python cell to add information about who you're working within your lab section:"
   ]
  },
  {
   "cell_type": "code",
   "execution_count": null,
   "metadata": {},
   "outputs": [],
   "source": [
    "# First, meet your CAs and TA if you haven't already!\n",
    "# ...first name is enough, we'll know who they are! :)\n",
    "ta_name = \"\"\n",
    "ca1_name = \"\"\n",
    "ca2_name = \"\"\n",
    "\n",
    "\n",
    "# Also, make sure to meet your team for this lab! Find out their name, what major they're in,\n",
    "# and learn something new about them that you never knew before!\n",
    "partner1_name = \"\"\n",
    "partner1_netid = \"\"\n",
    "partner1_major = \"\"\n",
    "\n",
    "partner2_name = \"\"\n",
    "partner2_netid = \"\"\n",
    "partner2_major = \"\"\n",
    "\n",
    "partner3_name = \"\"\n",
    "partner3_netid = \"\"\n",
    "partner3_major = \"\""
   ]
  },
  {
   "cell_type": "markdown",
   "metadata": {},
   "source": [
    "## Example 0.1: Random seed (IMPORTANT: PLEASE READ AND RUN THIS EXAMPLE)\n",
    "\n",
    "A random seed is a number used to initialize a pseudorandom number generator. If we use the same seed, we will get the same random number sequence.\n",
    "\n",
    "In this lab, we will use the random seed to help you check the simulations' output. Please do not delete the line that set the seed to 107 in any puzzles."
   ]
  },
  {
   "cell_type": "code",
   "execution_count": 1,
   "metadata": {},
   "outputs": [
    {
     "name": "stdout",
     "output_type": "stream",
     "text": [
      "0.24648195966935815\n",
      "0.5812899303907797\n",
      "0.9722810069256511\n",
      "0.24648195966935815\n",
      "0.5812899303907797\n"
     ]
    }
   ],
   "source": [
    "import pandas as pd\n",
    "import random as rd\n",
    "rd.seed(107)\n",
    "print(rd.random())\n",
    "print(rd.random())\n",
    "print(rd.random())\n",
    "rd.seed(107)\n",
    "print(rd.random())\n",
    "print(rd.random())"
   ]
  },
  {
   "cell_type": "markdown",
   "metadata": {},
   "source": [
    "## Example 0.2: Simulation of two dice (you can go to part 1 directly if you are confident)\n",
    "\n",
    "Suppose we roll two different **fair six-sided dice** at the same time.  One die is colored **blue** while the other is colored **red**.\n",
    "\n",
    "Simulate the above situation **1,000** times and store the observations of the value of the blue die and the red die in `df0`."
   ]
  },
  {
   "cell_type": "code",
   "execution_count": 2,
   "metadata": {
    "nbgrader": {
     "grade": false,
     "grade_id": "cell-c93866d5164aa8aa",
     "locked": false,
     "schema_version": 3,
     "solution": true,
     "task": false
    }
   },
   "outputs": [
    {
     "data": {
      "text/html": [
       "<div>\n",
       "<style scoped>\n",
       "    .dataframe tbody tr th:only-of-type {\n",
       "        vertical-align: middle;\n",
       "    }\n",
       "\n",
       "    .dataframe tbody tr th {\n",
       "        vertical-align: top;\n",
       "    }\n",
       "\n",
       "    .dataframe thead th {\n",
       "        text-align: right;\n",
       "    }\n",
       "</style>\n",
       "<table border=\"1\" class=\"dataframe\">\n",
       "  <thead>\n",
       "    <tr style=\"text-align: right;\">\n",
       "      <th></th>\n",
       "      <th>blue</th>\n",
       "      <th>red</th>\n",
       "    </tr>\n",
       "  </thead>\n",
       "  <tbody>\n",
       "    <tr>\n",
       "      <th>73</th>\n",
       "      <td>4</td>\n",
       "      <td>5</td>\n",
       "    </tr>\n",
       "    <tr>\n",
       "      <th>964</th>\n",
       "      <td>5</td>\n",
       "      <td>5</td>\n",
       "    </tr>\n",
       "    <tr>\n",
       "      <th>895</th>\n",
       "      <td>3</td>\n",
       "      <td>5</td>\n",
       "    </tr>\n",
       "    <tr>\n",
       "      <th>851</th>\n",
       "      <td>4</td>\n",
       "      <td>2</td>\n",
       "    </tr>\n",
       "    <tr>\n",
       "      <th>344</th>\n",
       "      <td>2</td>\n",
       "      <td>6</td>\n",
       "    </tr>\n",
       "  </tbody>\n",
       "</table>\n",
       "</div>"
      ],
      "text/plain": [
       "     blue  red\n",
       "73      4    5\n",
       "964     5    5\n",
       "895     3    5\n",
       "851     4    2\n",
       "344     2    6"
      ]
     },
     "execution_count": 2,
     "metadata": {},
     "output_type": "execute_result"
    }
   ],
   "source": [
    "# Step 0: Set the random seed for replicability\n",
    "rd.seed(107)\n",
    "# Step 1: Start with an empty list to store the simulated data\n",
    "data = []\n",
    "# Step 2: Implement the simulation with a for-loop\n",
    "for i in range(1000):\n",
    "    blue = rd.randint(1, 6)\n",
    "    red = rd.randint(1, 6)\n",
    "    d = {\"blue\": blue, \"red\": red}\n",
    "    data.append(d)    \n",
    "# Step 3: Convert the list of simulated data to a dataframe\n",
    "df0 = pd.DataFrame(data)\n",
    "# Sanity check: Show a few random rows\n",
    "df0.sample(5)"
   ]
  },
  {
   "cell_type": "markdown",
   "metadata": {},
   "source": [
    "## Example 0.3: Probability estimation of a two-dice event\n",
    "\n",
    "Using the above simulated data, we can estimate the probability that **the blue die lands on 4 or the red die lands on 2**."
   ]
  },
  {
   "cell_type": "code",
   "execution_count": 3,
   "metadata": {
    "nbgrader": {
     "grade": false,
     "grade_id": "cell-5144eadebe059446",
     "locked": false,
     "schema_version": 3,
     "solution": true,
     "task": false
    }
   },
   "outputs": [
    {
     "name": "stdout",
     "output_type": "stream",
     "text": [
      "0.318\n",
      "0.318\n"
     ]
    }
   ],
   "source": [
    "# Numerator:    sum only counts the number of TRUEs.\n",
    "# Denominator:  len counts both TRUEs and FALSEs.\n",
    "#               You can try len((df0['blue'] == 4) | (df0['red'] == 2)).\n",
    "p03 = sum((df0['blue'] == 4) | (df0['red'] == 2))/len(df0)\n",
    "print(p03)\n",
    "# An alternative approach is to subset the success dataframe and find its length.\n",
    "df0_success = df0[(df0['blue'] == 4) | (df0['red'] == 2)]\n",
    "p03_alt = len(df0_success)/len(df0)\n",
    "print(p03_alt)"
   ]
  },
  {
   "cell_type": "markdown",
   "metadata": {},
   "source": [
    "## Example 0.4: Exact probability of a two-dice event\n",
    "\n",
    "We can also calculate the exact probability that **the blue die lands on 4 or the red die lands on 2**, which is not far from our estimate in Example 0.3."
   ]
  },
  {
   "cell_type": "code",
   "execution_count": 4,
   "metadata": {
    "nbgrader": {
     "grade": false,
     "grade_id": "cell-a28ce929e8600774",
     "locked": false,
     "schema_version": 3,
     "solution": true,
     "task": false
    }
   },
   "outputs": [
    {
     "data": {
      "text/plain": [
       "0.3055555555555555"
      ]
     },
     "execution_count": 4,
     "metadata": {},
     "output_type": "execute_result"
    }
   ],
   "source": [
    "p03_exact = 1/6 + 1/6 - 1/36\n",
    "p03_exact"
   ]
  },
  {
   "cell_type": "markdown",
   "metadata": {},
   "source": [
    "# Part 1 | Rolling Three Dice\n",
    "\n",
    "## Puzzle 1.1: Simulation of three dice\n",
    "\n",
    "Suppose we roll three different **fair six-sided dice**: a **white**, a **red**, and a **blue**.\n",
    "\n",
    "Simulate the above situation **1,000** times and store the observations in `df1`.\n",
    "\n",
    "Hint (double-click this cell to see it): <span style=\"color:#ffffff00\">see Example 0.2. Try not to copy and paste so that you can learn line by line.</span>"
   ]
  },
  {
   "cell_type": "code",
   "execution_count": 10,
   "metadata": {
    "nbgrader": {
     "grade": false,
     "grade_id": "cell-c42efbf1ba47dcab",
     "locked": false,
     "schema_version": 3,
     "solution": true,
     "task": false
    }
   },
   "outputs": [
    {
     "data": {
      "text/html": [
       "<div>\n",
       "<style scoped>\n",
       "    .dataframe tbody tr th:only-of-type {\n",
       "        vertical-align: middle;\n",
       "    }\n",
       "\n",
       "    .dataframe tbody tr th {\n",
       "        vertical-align: top;\n",
       "    }\n",
       "\n",
       "    .dataframe thead th {\n",
       "        text-align: right;\n",
       "    }\n",
       "</style>\n",
       "<table border=\"1\" class=\"dataframe\">\n",
       "  <thead>\n",
       "    <tr style=\"text-align: right;\">\n",
       "      <th></th>\n",
       "      <th>dice1</th>\n",
       "      <th>dice2</th>\n",
       "      <th>dice3</th>\n",
       "    </tr>\n",
       "  </thead>\n",
       "  <tbody>\n",
       "    <tr>\n",
       "      <th>453</th>\n",
       "      <td>1</td>\n",
       "      <td>2</td>\n",
       "      <td>5</td>\n",
       "    </tr>\n",
       "    <tr>\n",
       "      <th>8</th>\n",
       "      <td>2</td>\n",
       "      <td>6</td>\n",
       "      <td>5</td>\n",
       "    </tr>\n",
       "    <tr>\n",
       "      <th>192</th>\n",
       "      <td>1</td>\n",
       "      <td>2</td>\n",
       "      <td>5</td>\n",
       "    </tr>\n",
       "    <tr>\n",
       "      <th>593</th>\n",
       "      <td>3</td>\n",
       "      <td>3</td>\n",
       "      <td>6</td>\n",
       "    </tr>\n",
       "    <tr>\n",
       "      <th>195</th>\n",
       "      <td>4</td>\n",
       "      <td>1</td>\n",
       "      <td>2</td>\n",
       "    </tr>\n",
       "  </tbody>\n",
       "</table>\n",
       "</div>"
      ],
      "text/plain": [
       "     dice1  dice2  dice3\n",
       "453      1      2      5\n",
       "8        2      6      5\n",
       "192      1      2      5\n",
       "593      3      3      6\n",
       "195      4      1      2"
      ]
     },
     "execution_count": 10,
     "metadata": {},
     "output_type": "execute_result"
    }
   ],
   "source": [
    "rd.seed(107)\n",
    "data = []\n",
    "for i in range(1000):\n",
    "    dice1 = rd.randint(1,6)\n",
    "    dice2 = rd.randint(1,6)\n",
    "    dice3 = rd.randint(1,6)\n",
    "\n",
    "    d = {\"dice1\": dice1, \"dice2\": dice2, \"dice3\": dice3}\n",
    "    data.append(d)\n",
    "df1 = pd.DataFrame(data)\n",
    "df1.sample(5)"
   ]
  },
  {
   "cell_type": "markdown",
   "metadata": {},
   "source": [
    "## Puzzle 1.2: Probability estimation of a three-dice event\n",
    "\n",
    "Estimate the probability that the **sum of all three dice is exactly 9**. Store the result in `p12`.\n",
    "\n",
    "Hint (double-click this cell to see it): <span style=\"color:#ffffff00\">see Example 0.3. You can use .sum(axis=1) to obtain the sum of all three dice row by row.</span>"
   ]
  },
  {
   "cell_type": "code",
   "execution_count": 15,
   "metadata": {
    "nbgrader": {
     "grade": false,
     "grade_id": "cell-b16fd8d9c98834ef",
     "locked": false,
     "schema_version": 3,
     "solution": true,
     "task": false
    }
   },
   "outputs": [
    {
     "data": {
      "text/plain": [
       "0.127"
      ]
     },
     "execution_count": 15,
     "metadata": {},
     "output_type": "execute_result"
    }
   ],
   "source": [
    "p12 = sum((df1['dice1']) + (df1[\"dice2\"]) + (df1[\"dice3\"]) == 9)/len(df1)\n",
    "p12"
   ]
  },
  {
   "cell_type": "code",
   "execution_count": 16,
   "metadata": {
    "nbgrader": {
     "grade": true,
     "grade_id": "cell-571231fcdfa9de08",
     "locked": true,
     "points": 1,
     "schema_version": 3,
     "solution": false,
     "task": false
    }
   },
   "outputs": [
    {
     "name": "stdout",
     "output_type": "stream",
     "text": [
      "🎉 All tests passed! 🎉\n"
     ]
    }
   ],
   "source": [
    "## == TEST CASES for Part 1 ==\n",
    "# - This read-only cell contains test cases for your previous cell(s).\n",
    "# - If this cell runs without any error, you PASSED all test cases!\n",
    "# - If this cell results in any errors, check your previous cell(s), make changes, and RE-RUN your code and then this cell.\n",
    "\n",
    "assert(len(df1) == 1000), \"Make sure your df1 has exactly 1,000 observations\"\n",
    "assert(p12 == 127/1000), \"Make sure you set the seed to 107 and estimate the correct probability in p12\"\n",
    "\n",
    "## == SUCCESS MESSAGE ==\n",
    "# You will only see this message (with the emoji showing) if you passed all test cases:\n",
    "tada = \"\\N{PARTY POPPER}\"\n",
    "print(f\"{tada} All tests passed! {tada}\")"
   ]
  },
  {
   "cell_type": "markdown",
   "metadata": {},
   "source": [
    "# Part 2 | Fliping Four Coins\n",
    "\n",
    "## Puzzle 2.1: Simulation of four coins\n",
    "\n",
    "Suppose we flip **four fair coins**, one coin at a time and one after another. Each coin has two sides: **\"head\" (defined as 1)** and **\"tail\" (defined as 0)**.\n",
    "\n",
    "Simulate the above situation **50,000** times and store the observations in `df2`.\n",
    "\n",
    "Hint (double-click this cell to see it): <span style=\"color:#ffffff00\">see Example 0.2. Try not to copy and paste so that you can learn line by line.</span>"
   ]
  },
  {
   "cell_type": "code",
   "execution_count": 19,
   "metadata": {
    "nbgrader": {
     "grade": false,
     "grade_id": "cell-da32a7ecb4863a7f",
     "locked": false,
     "schema_version": 3,
     "solution": true,
     "task": false
    }
   },
   "outputs": [
    {
     "data": {
      "text/html": [
       "<div>\n",
       "<style scoped>\n",
       "    .dataframe tbody tr th:only-of-type {\n",
       "        vertical-align: middle;\n",
       "    }\n",
       "\n",
       "    .dataframe tbody tr th {\n",
       "        vertical-align: top;\n",
       "    }\n",
       "\n",
       "    .dataframe thead th {\n",
       "        text-align: right;\n",
       "    }\n",
       "</style>\n",
       "<table border=\"1\" class=\"dataframe\">\n",
       "  <thead>\n",
       "    <tr style=\"text-align: right;\">\n",
       "      <th></th>\n",
       "      <th>coin1</th>\n",
       "      <th>coin2</th>\n",
       "      <th>coin3</th>\n",
       "      <th>coin4</th>\n",
       "    </tr>\n",
       "  </thead>\n",
       "  <tbody>\n",
       "    <tr>\n",
       "      <th>39364</th>\n",
       "      <td>1</td>\n",
       "      <td>1</td>\n",
       "      <td>0</td>\n",
       "      <td>1</td>\n",
       "    </tr>\n",
       "    <tr>\n",
       "      <th>46671</th>\n",
       "      <td>1</td>\n",
       "      <td>0</td>\n",
       "      <td>0</td>\n",
       "      <td>1</td>\n",
       "    </tr>\n",
       "    <tr>\n",
       "      <th>1409</th>\n",
       "      <td>1</td>\n",
       "      <td>1</td>\n",
       "      <td>0</td>\n",
       "      <td>1</td>\n",
       "    </tr>\n",
       "    <tr>\n",
       "      <th>22808</th>\n",
       "      <td>1</td>\n",
       "      <td>0</td>\n",
       "      <td>1</td>\n",
       "      <td>1</td>\n",
       "    </tr>\n",
       "    <tr>\n",
       "      <th>38293</th>\n",
       "      <td>1</td>\n",
       "      <td>1</td>\n",
       "      <td>0</td>\n",
       "      <td>1</td>\n",
       "    </tr>\n",
       "  </tbody>\n",
       "</table>\n",
       "</div>"
      ],
      "text/plain": [
       "       coin1  coin2  coin3  coin4\n",
       "39364      1      1      0      1\n",
       "46671      1      0      0      1\n",
       "1409       1      1      0      1\n",
       "22808      1      0      1      1\n",
       "38293      1      1      0      1"
      ]
     },
     "execution_count": 19,
     "metadata": {},
     "output_type": "execute_result"
    }
   ],
   "source": [
    "rd.seed(107)\n",
    "data = []\n",
    "for i in range(50000):\n",
    "    coin1 = rd.randint(0,1)\n",
    "    coin2 = rd.randint(0,1)\n",
    "    coin3 = rd.randint(0,1) \n",
    "    coin4 = rd.randint(0,1) \n",
    "    d = {\"coin1\": coin1, \"coin2\": coin2, \"coin3\": coin3, \"coin4\": coin4}\n",
    "    data.append(d)\n",
    "df2 = pd.DataFrame(data)\n",
    "df2.sample(5)"
   ]
  },
  {
   "cell_type": "markdown",
   "metadata": {},
   "source": [
    "## Puzzle 2.2: Probability estimation of a four-coins event\n",
    "\n",
    "Estimate the probability that **the first two coin flips are both heads and last two coin flips are both tails**. Store the result in `p22`.\n",
    "\n",
    "Hint (double-click this cell to see it): <span style=\"color:#ffffff00\">see Example 0.3.</span>"
   ]
  },
  {
   "cell_type": "code",
   "execution_count": 37,
   "metadata": {
    "nbgrader": {
     "grade": false,
     "grade_id": "cell-500cf95087dcb6db",
     "locked": false,
     "schema_version": 3,
     "solution": true,
     "task": false
    }
   },
   "outputs": [
    {
     "data": {
      "text/plain": [
       "0.06382"
      ]
     },
     "execution_count": 37,
     "metadata": {},
     "output_type": "execute_result"
    }
   ],
   "source": [
    "p22 = p22 = sum(((df2[\"coin1\"] == 1) & (df2[\"coin2\"] == 1) & (df2[\"coin3\"] == 0) & (df2[\"coin4\"] == 0)))/len(df2)\n",
    "p22"
   ]
  },
  {
   "cell_type": "markdown",
   "metadata": {},
   "source": [
    "## Puzzle 2.3: Probability estimation of another four-coins event\n",
    "\n",
    "Estimate the probability that **at most two coin flips are heads**. Store the result in `p23`.\n",
    "\n",
    "Hint (double-click this cell to see it): <span style=\"color:#ffffff00\">see Example 0.3. You can use .sum(axis=1) to obtain the \"sum\" of four coins row by row.</span>"
   ]
  },
  {
   "cell_type": "code",
   "execution_count": 30,
   "metadata": {
    "nbgrader": {
     "grade": false,
     "grade_id": "cell-500cf95087dcb6db",
     "locked": false,
     "schema_version": 3,
     "solution": true,
     "task": false
    }
   },
   "outputs": [
    {
     "data": {
      "text/plain": [
       "0.68536"
      ]
     },
     "execution_count": 30,
     "metadata": {},
     "output_type": "execute_result"
    }
   ],
   "source": [
    "p23 = sum((df2[\"coin1\"] + df2[\"coin2\"] + df2[\"coin3\"] + df2[\"coin4\"] <= 2))/len(df2)\n",
    "p23"
   ]
  },
  {
   "cell_type": "code",
   "execution_count": 38,
   "metadata": {
    "nbgrader": {
     "grade": true,
     "grade_id": "cell-ee8226d0066bb603",
     "locked": true,
     "points": 1,
     "schema_version": 3,
     "solution": false,
     "task": false
    }
   },
   "outputs": [
    {
     "name": "stdout",
     "output_type": "stream",
     "text": [
      "🎉 All tests passed! 🎉\n"
     ]
    }
   ],
   "source": [
    "## == TEST CASES for Part 2 ==\n",
    "# - This read-only cell contains test cases for your previous cell(s).\n",
    "# - If this cell runs without any error, you PASSED all test cases!\n",
    "# - If this cell results in any errors, check your previous cell(s), make changes, and RE-RUN your code and then this cell.\n",
    "\n",
    "assert(len(df2) == 50000), \"Make sure your df2 has exactly 50,000 observations\"\n",
    "assert(p22 == 3191/50000), \"Make sure you set the seed to 107 and estimate the correct probability in p22\"\n",
    "assert(p23 == 34268/50000), \"Make sure you set the seed to 107 and estimate the correct probability in p23\"\n",
    "\n",
    "## == SUCCESS MESSAGE ==\n",
    "# You will only see this message (with the emoji showing) if you passed all test cases:\n",
    "tada = \"\\N{PARTY POPPER}\"\n",
    "print(f\"{tada} All tests passed! {tada}\")"
   ]
  },
  {
   "cell_type": "markdown",
   "metadata": {},
   "source": [
    "# Part 3 | Avengers: Infinity War\n",
    "\n",
    "## Puzzle 3.1: Simulation of the battle on Titan\n",
    "\n",
    "Suppose the **power level** of the characters engaged in the battle on Titan can be modelled as follows:\n",
    "\n",
    "1. Thanos:  a random integer between 80 to 120.\n",
    "2. Strange: a random integer between 10 to 20.\n",
    "3. Stark:   a random integer between 10 to 16.\n",
    "4. Parker:  a random integer between 6 to 12.\n",
    "5. Mantis:  a random real number between 0.8 to 1 (inclusive). The code for Mantis is given.\n",
    "6. Drax:    a random integer between 8 to 16.\n",
    "7. Nebula:  a random integer between 8 to 16.\n",
    "8. Quill:   a random integer between -10 to 10.\n",
    "\n",
    "Simulate the power levels **100,000** times **in the order listed above** and store the observations in `df3`.\n",
    "\n",
    "Hint (double-click this cell to see it): <span style=\"color:#ffffff00\">see Example 0.2. Try not to copy and paste so that you can learn line by line.</span>"
   ]
  },
  {
   "cell_type": "code",
   "execution_count": 40,
   "metadata": {
    "nbgrader": {
     "grade": false,
     "grade_id": "cell-da32a7ecb4863a7f",
     "locked": false,
     "schema_version": 3,
     "solution": true,
     "task": false
    }
   },
   "outputs": [
    {
     "data": {
      "text/html": [
       "<div>\n",
       "<style scoped>\n",
       "    .dataframe tbody tr th:only-of-type {\n",
       "        vertical-align: middle;\n",
       "    }\n",
       "\n",
       "    .dataframe tbody tr th {\n",
       "        vertical-align: top;\n",
       "    }\n",
       "\n",
       "    .dataframe thead th {\n",
       "        text-align: right;\n",
       "    }\n",
       "</style>\n",
       "<table border=\"1\" class=\"dataframe\">\n",
       "  <thead>\n",
       "    <tr style=\"text-align: right;\">\n",
       "      <th></th>\n",
       "      <th>thanos</th>\n",
       "      <th>strange</th>\n",
       "      <th>stark</th>\n",
       "      <th>parker</th>\n",
       "      <th>mantis</th>\n",
       "      <th>drax</th>\n",
       "      <th>nebula</th>\n",
       "      <th>quill</th>\n",
       "    </tr>\n",
       "  </thead>\n",
       "  <tbody>\n",
       "    <tr>\n",
       "      <th>70075</th>\n",
       "      <td>99</td>\n",
       "      <td>12</td>\n",
       "      <td>11</td>\n",
       "      <td>7</td>\n",
       "      <td>0.933183</td>\n",
       "      <td>11</td>\n",
       "      <td>14</td>\n",
       "      <td>8</td>\n",
       "    </tr>\n",
       "    <tr>\n",
       "      <th>231</th>\n",
       "      <td>82</td>\n",
       "      <td>18</td>\n",
       "      <td>10</td>\n",
       "      <td>10</td>\n",
       "      <td>0.881850</td>\n",
       "      <td>16</td>\n",
       "      <td>8</td>\n",
       "      <td>9</td>\n",
       "    </tr>\n",
       "    <tr>\n",
       "      <th>7676</th>\n",
       "      <td>103</td>\n",
       "      <td>19</td>\n",
       "      <td>16</td>\n",
       "      <td>11</td>\n",
       "      <td>0.894874</td>\n",
       "      <td>9</td>\n",
       "      <td>12</td>\n",
       "      <td>3</td>\n",
       "    </tr>\n",
       "    <tr>\n",
       "      <th>15791</th>\n",
       "      <td>114</td>\n",
       "      <td>15</td>\n",
       "      <td>15</td>\n",
       "      <td>12</td>\n",
       "      <td>0.981489</td>\n",
       "      <td>16</td>\n",
       "      <td>13</td>\n",
       "      <td>-6</td>\n",
       "    </tr>\n",
       "    <tr>\n",
       "      <th>22672</th>\n",
       "      <td>112</td>\n",
       "      <td>15</td>\n",
       "      <td>15</td>\n",
       "      <td>10</td>\n",
       "      <td>0.847465</td>\n",
       "      <td>12</td>\n",
       "      <td>16</td>\n",
       "      <td>2</td>\n",
       "    </tr>\n",
       "  </tbody>\n",
       "</table>\n",
       "</div>"
      ],
      "text/plain": [
       "       thanos  strange  stark  parker    mantis  drax  nebula  quill\n",
       "70075      99       12     11       7  0.933183    11      14      8\n",
       "231        82       18     10      10  0.881850    16       8      9\n",
       "7676      103       19     16      11  0.894874     9      12      3\n",
       "15791     114       15     15      12  0.981489    16      13     -6\n",
       "22672     112       15     15      10  0.847465    12      16      2"
      ]
     },
     "execution_count": 40,
     "metadata": {},
     "output_type": "execute_result"
    }
   ],
   "source": [
    "rd.seed(107)\n",
    "data = []\n",
    "for i in range(100000):\n",
    "    thanos = rd.randint(80,120)\n",
    "    strange = rd.randint(10,20)\n",
    "    stark = rd.randint(10,16)\n",
    "    parker = rd.randint(6,12)\n",
    "    mantis = rd.uniform(0.8, 1)\n",
    "    drax = rd.randint(8,16)\n",
    "    nebula = rd.randint(8,16)\n",
    "    quill = rd.randint(-10,10)\n",
    "    d = {\"thanos\": thanos, \"strange\": strange, \"stark\": stark, \"parker\": parker, \"mantis\": mantis, \"drax\": drax, \"nebula\": nebula, \"quill\": quill}\n",
    "    data.append(d)\n",
    "df3 = pd.DataFrame(data)\n",
    "df3.sample(5)"
   ]
  },
  {
   "cell_type": "markdown",
   "metadata": {},
   "source": [
    "## Puzzle 3.2: Probability estimation of winning the battle\n",
    "\n",
    "Suppose the superheroes win when\n",
    "$$\n",
    "\\mathrm{Strange} +\\mathrm{Stark} +\\mathrm{Parker} +\\mathrm{Drax} +\\mathrm{Nebula} +\\mathrm{Quill} \\ge \\mathrm{Mantis} \\times \\mathrm{Thanos}.\n",
    "$$\n",
    "Estimate the probability that **the superheroes win**. Store the result in `p32`.\n",
    "\n",
    "Hint (double-click this cell to see it): <span style=\"color:#ffffff00\">see Example 0.3. You can use df[list].sum(axis=1) to obtain the row sum of columns with name in list.</span>"
   ]
  },
  {
   "cell_type": "code",
   "execution_count": 41,
   "metadata": {
    "nbgrader": {
     "grade": false,
     "grade_id": "cell-500cf95087dcb6db",
     "locked": false,
     "schema_version": 3,
     "solution": true,
     "task": false
    }
   },
   "outputs": [
    {
     "data": {
      "text/plain": [
       "0.01717"
      ]
     },
     "execution_count": 41,
     "metadata": {},
     "output_type": "execute_result"
    }
   ],
   "source": [
    "p32 = sum((df3[\"strange\"] + df3[\"stark\"] + df3[\"parker\"] + df3[\"drax\"] + df3[\"nebula\"] + df3[\"quill\"]) >= (df3[\"mantis\"] * df3[\"thanos\"]))/len(df3)\n",
    "p32"
   ]
  },
  {
   "cell_type": "markdown",
   "metadata": {},
   "source": [
    "## Puzzle 3.3: Conditional probability estimation of winning the battle\n",
    "\n",
    "Recall the superheroes win when\n",
    "$$\n",
    "\\mathrm{Strange} +\\mathrm{Stark} +\\mathrm{Parker} +\\mathrm{Drax} +\\mathrm{Nebula} +\\mathrm{Quill} \\ge \\mathrm{Mantis} \\times \\mathrm{Thanos}.\n",
    "$$\n",
    "Estimate the probability that **the superheroes win given that $\\mathrm{Mantis} < 0.9$**. Store the result in `p33`.\n",
    "\n",
    "Hint (double-click this cell to see it): <span style=\"color:#ffffff00\">use Bayes' rule (or definition of conditional probability) on top of the code in Puzzle 3.2.</span>"
   ]
  },
  {
   "cell_type": "code",
   "execution_count": 46,
   "metadata": {
    "nbgrader": {
     "grade": false,
     "grade_id": "cell-500cf95087dcb6db",
     "locked": false,
     "schema_version": 3,
     "solution": true,
     "task": false
    }
   },
   "outputs": [
    {
     "data": {
      "text/plain": [
       "0.03127697588982796"
      ]
     },
     "execution_count": 46,
     "metadata": {},
     "output_type": "execute_result"
    }
   ],
   "source": [
    "dfmantis = df3[df3[\"mantis\"] < 0.9]\n",
    "p33 = sum(((df3[\"strange\"] + df3[\"stark\"] + df3[\"parker\"] + df3[\"drax\"] + df3[\"nebula\"] + df3[\"quill\"]) >= (df3[\"mantis\"] * df3[\"thanos\"])) & (df3[\"mantis\"] < 0.9))/len(dfmantis)\n",
    "p33"
   ]
  },
  {
   "cell_type": "code",
   "execution_count": 47,
   "metadata": {
    "nbgrader": {
     "grade": true,
     "grade_id": "cell-ee8226d0066bb603",
     "locked": true,
     "points": 1,
     "schema_version": 3,
     "solution": false,
     "task": false
    }
   },
   "outputs": [
    {
     "name": "stdout",
     "output_type": "stream",
     "text": [
      "🎉 All tests passed! 🎉\n"
     ]
    }
   ],
   "source": [
    "## == TEST CASES for Part 3 ==\n",
    "# - This read-only cell contains test cases for your previous cell(s).\n",
    "# - If this cell runs without any error, you PASSED all test cases!\n",
    "# - If this cell results in any errors, check your previous cell(s), make changes, and RE-RUN your code and then this cell.\n",
    "\n",
    "assert(len(df3) == 100000), \"Make sure your df3 has exactly 100,000 observations\"\n",
    "assert(p32 == 1717/100000), \"Make sure you follow the instruction in Puzzle 3.1 and estimate the correct probability in p32\"\n",
    "assert(p33 == 1558/49813), \"Make sure you follow the instruction in Puzzle 3.1 and estimate the correct probability in p33\"\n",
    "\n",
    "## == SUCCESS MESSAGE ==\n",
    "# You will only see this message (with the emoji showing) if you passed all test cases:\n",
    "tada = \"\\N{PARTY POPPER}\"\n",
    "print(f\"{tada} All tests passed! {tada}\")"
   ]
  },
  {
   "cell_type": "markdown",
   "metadata": {},
   "source": [
    "## Puzzle 3.4: Usefulness of simulation\n",
    "\n",
    "❓ **Individual Reflection Question** ❓ Can you find the exact probabilities in Puzzle 3.2/3.3? What are the advantage(s) of simulation?"
   ]
  },
  {
   "cell_type": "markdown",
   "metadata": {},
   "source": [
    "Yes, it looks like I can find the probabilities in Puzzle 3.2/3.3! \n",
    "Some advantages of simulation include the following: \n",
    "you can repeat something over and over\n",
    "can change the variables for each version of simulation\n"
   ]
  },
  {
   "cell_type": "markdown",
   "metadata": {},
   "source": [
    "❓ **Group Discussion Question** ❓ Recall our title 1/14,000,605 from Avengers: Infinity War (see https://www.youtube.com/watch?v=eGKPfZTXHsc if you haven't). Discuss with your groupmates if you have seen other examples of simulation in movies."
   ]
  },
  {
   "cell_type": "markdown",
   "metadata": {},
   "source": [
    "# Part 4 | Beyond probability estimation\n",
    "\n",
    "## Puzzle 4.1: Simulation of points on a unit square\n",
    "\n",
    "Imagine we have a **unit square** with the corners at $(0,0)$, $(0,1)$, $(1,1)$ and $(1,0)$, respectively.\n",
    "\n",
    "Simulate **100,000** random points on this square and store the observations in `df4`.\n",
    "\n",
    "Hint (double-click this cell to see it): <span style=\"color:#ffffff00\">see Example 0.2. The x-coordinate and y-coordiante of a random point can be generated by rd.random().</span>"
   ]
  },
  {
   "cell_type": "code",
   "execution_count": 59,
   "metadata": {
    "nbgrader": {
     "grade": false,
     "grade_id": "cell-da32a7ecb4863a7f",
     "locked": false,
     "schema_version": 3,
     "solution": true,
     "task": false
    }
   },
   "outputs": [
    {
     "data": {
      "text/html": [
       "<div>\n",
       "<style scoped>\n",
       "    .dataframe tbody tr th:only-of-type {\n",
       "        vertical-align: middle;\n",
       "    }\n",
       "\n",
       "    .dataframe tbody tr th {\n",
       "        vertical-align: top;\n",
       "    }\n",
       "\n",
       "    .dataframe thead th {\n",
       "        text-align: right;\n",
       "    }\n",
       "</style>\n",
       "<table border=\"1\" class=\"dataframe\">\n",
       "  <thead>\n",
       "    <tr style=\"text-align: right;\">\n",
       "      <th></th>\n",
       "      <th>x</th>\n",
       "      <th>y</th>\n",
       "      <th>radius</th>\n",
       "    </tr>\n",
       "  </thead>\n",
       "  <tbody>\n",
       "    <tr>\n",
       "      <th>55541</th>\n",
       "      <td>0.825681</td>\n",
       "      <td>0.037279</td>\n",
       "      <td>(0, 0)</td>\n",
       "    </tr>\n",
       "    <tr>\n",
       "      <th>76619</th>\n",
       "      <td>0.736382</td>\n",
       "      <td>0.091910</td>\n",
       "      <td>(0, 0)</td>\n",
       "    </tr>\n",
       "    <tr>\n",
       "      <th>27711</th>\n",
       "      <td>0.906572</td>\n",
       "      <td>0.164677</td>\n",
       "      <td>(0, 0)</td>\n",
       "    </tr>\n",
       "    <tr>\n",
       "      <th>20695</th>\n",
       "      <td>0.821894</td>\n",
       "      <td>0.934046</td>\n",
       "      <td>(0, 0)</td>\n",
       "    </tr>\n",
       "    <tr>\n",
       "      <th>82743</th>\n",
       "      <td>0.153284</td>\n",
       "      <td>0.459295</td>\n",
       "      <td>(0, 0)</td>\n",
       "    </tr>\n",
       "  </tbody>\n",
       "</table>\n",
       "</div>"
      ],
      "text/plain": [
       "              x         y  radius\n",
       "55541  0.825681  0.037279  (0, 0)\n",
       "76619  0.736382  0.091910  (0, 0)\n",
       "27711  0.906572  0.164677  (0, 0)\n",
       "20695  0.821894  0.934046  (0, 0)\n",
       "82743  0.153284  0.459295  (0, 0)"
      ]
     },
     "execution_count": 59,
     "metadata": {},
     "output_type": "execute_result"
    }
   ],
   "source": [
    "rd.seed(107)\n",
    "data = []\n",
    "for i in range(100000):\n",
    "    x = rd.random() \n",
    "    y = rd.random()\n",
    "    radius = (0,0)\n",
    "    d = {\"x\": x, \"y\": y, \"radius\": radius }\n",
    "    data.append(d)\n",
    "df4 = pd.DataFrame(data)\n",
    "df4.sample(5)"
   ]
  },
  {
   "cell_type": "markdown",
   "metadata": {},
   "source": [
    "## Puzzle 4.2: Estimation of $\\pi$\n",
    "\n",
    "Now, we incribe a **circle** (with radius $0.5$) in the previous square. The circumcenter is $(0.5, 0.5)$. Clearly, a point would fall inside the circle if\n",
    "$$\n",
    "(x-0.5)^2 +(y-0.5)^2 \\le 0.5^2.\n",
    "$$\n",
    "On the other hand, we have the following relationship:\n",
    "$$\n",
    "\\frac{\\text{no. of pts inside the circle}}{\\text{no. of pts inside the square}}\n",
    "\\approx \\frac{\\text{area of the circle}}{\\text{area of the square}}\n",
    "= \\frac{0.5^2 \\pi}{1} = \\frac{\\pi}{4}.\n",
    "$$\n",
    "Rearranging the equation, we can estimate $\\pi$ by\n",
    "$$\n",
    "\\pi \\approx \\frac{4 \\times \\text{no. of pts inside the circle}}{\\text{no. of pts inside the square}}.\n",
    "$$\n",
    "\n",
    "Estimate $\\pi$ using the above relationship. Store the result in `pie`.\n",
    "\n",
    "Hint (double-click this cell to see it): <span style=\"color:#ffffff00\">see Example 0.3. \n",
    "The number of points inside the circle can be found by checking the equation (x-0.5)^2 +(y-0.5)^2 <= 0.5^2.</span>"
   ]
  },
  {
   "cell_type": "code",
   "execution_count": 64,
   "metadata": {
    "nbgrader": {
     "grade": false,
     "grade_id": "cell-500cf95087dcb6db",
     "locked": false,
     "schema_version": 3,
     "solution": true,
     "task": false
    }
   },
   "outputs": [
    {
     "data": {
      "text/plain": [
       "3.14192"
      ]
     },
     "execution_count": 64,
     "metadata": {},
     "output_type": "execute_result"
    }
   ],
   "source": [
    "circle = sum(((df4[\"x\"] - 0.5)**2) + (df4[\"y\"] - 0.5)**2 <= (0.5**2))\n",
    "pie = (4 * circle) / (len(df4)) \n",
    "pie "
   ]
  },
  {
   "cell_type": "code",
   "execution_count": 65,
   "metadata": {
    "nbgrader": {
     "grade": true,
     "grade_id": "cell-ee8226d0066bb603",
     "locked": true,
     "points": 1,
     "schema_version": 3,
     "solution": false,
     "task": false
    }
   },
   "outputs": [
    {
     "name": "stdout",
     "output_type": "stream",
     "text": [
      "🎉 All tests passed! 🎉\n"
     ]
    }
   ],
   "source": [
    "## == TEST CASES for Part 4 ==\n",
    "# - This read-only cell contains test cases for your previous cell(s).\n",
    "# - If this cell runs without any error, you PASSED all test cases!\n",
    "# - If this cell results in any errors, check your previous cell(s), make changes, and RE-RUN your code and then this cell.\n",
    "\n",
    "assert(len(df4) == 100000), \"Make sure your df4 has exactly 100,000 observations\"\n",
    "assert(pie == 314192/100000), \"Make sure you use the correct equation(s) in Puzzle 4.2\"\n",
    "\n",
    "## == SUCCESS MESSAGE ==\n",
    "# You will only see this message (with the emoji showing) if you passed all test cases:\n",
    "tada = \"\\N{PARTY POPPER}\"\n",
    "print(f\"{tada} All tests passed! {tada}\")"
   ]
  },
  {
   "cell_type": "markdown",
   "metadata": {},
   "source": [
    "## Puzzle 4.3: Beyond probability estimation\n",
    "\n",
    "❓ **Individual Reflection Question** ❓ Puzzle 4.2 presents an example where we use simulation for estimating quantity other than probability. Can you name other application(s) of simulation?\n",
    "\n",
    "Hint (double-click this cell to see it): <span style=\"color:#ffffff00\">check https://en.wikipedia.org/wiki/Monte_Carlo_method#Applications if you have no clues at all.</span>"
   ]
  },
  {
   "cell_type": "markdown",
   "metadata": {},
   "source": [
    "Something that I thought of that would be a good example of an application for simulation in general is for weather conditions.  Simulations are able to help provide predictions of forecasts based on the radar, satellite data, and whatever else is able to forecasters. The Monte Carlo method looks interesting, also!"
   ]
  },
  {
   "cell_type": "markdown",
   "metadata": {},
   "source": [
    "❓ **Group Discussion Question** ❓ Do you know any other approaches to estimate $\\pi$? Discuss with your groupmates whether you like the simulation approach or not (and why)."
   ]
  },
  {
   "cell_type": "markdown",
   "metadata": {},
   "source": [
    "# Finale!\n",
    "\n",
    "You're almost done -- congratulations!\n",
    "\n",
    "You need to do two more things:\n",
    "\n",
    "1.  Save your work. To do this, go to File -> Save All\n",
    "\n",
    "2.  After you have saved, exit this notebook and follow the webpage instructions to commit this lab to your Git repository!"
   ]
  }
 ],
 "metadata": {
  "celltoolbar": "Create Assignment",
  "interpreter": {
   "hash": "c9924483889bfdf5400afdfc5d935a5c2f3ade9046caa116863369e4ffef1d57"
  },
  "kernelspec": {
   "display_name": "Python 3.7.4 32-bit",
   "name": "python3"
  },
  "language_info": {
   "codemirror_mode": {
    "name": "ipython",
    "version": 3
   },
   "file_extension": ".py",
   "mimetype": "text/x-python",
   "name": "python",
   "nbconvert_exporter": "python",
   "pygments_lexer": "ipython3",
   "version": "3.7.4"
  }
 },
 "nbformat": 4,
 "nbformat_minor": 2
}
